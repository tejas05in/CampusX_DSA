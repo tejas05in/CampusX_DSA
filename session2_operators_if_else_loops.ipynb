{
  "cells": [
    {
      "cell_type": "markdown",
      "metadata": {
        "id": "y1HMD4oI7FL7"
      },
      "source": [
        "# Operators in Python\n",
        "\n",
        "- Arithmetic Operators\n",
        "- Relational Operators\n",
        "- Logical Operators\n",
        "- Bitwise Operators\n",
        "- Assignment Operators\n",
        "- Membership Operators"
      ]
    },
    {
      "cell_type": "code",
      "execution_count": 31,
      "metadata": {
        "id": "a7cegk-f7U4-"
      },
      "outputs": [
        {
          "name": "stdout",
          "output_type": "stream",
          "text": [
            "11\n",
            "-1\n",
            "30\n",
            "0.8333333333333334\n",
            "0\n",
            "1\n",
            "1\n",
            "25\n"
          ]
        }
      ],
      "source": [
        "# Arithmetric Operators\n",
        "print(5+6)\n",
        "\n",
        "print(5-6)\n",
        "\n",
        "print(5*6)\n",
        "\n",
        "print(5/6)\n",
        "\n",
        "print(5//6)\n",
        "\n",
        "print(6//5)\n",
        "\n",
        "print(5%2)\n",
        "\n",
        "print(5**2)"
      ]
    },
    {
      "cell_type": "code",
      "execution_count": 33,
      "metadata": {
        "id": "TMIQKhFd7Y5A"
      },
      "outputs": [
        {
          "name": "stdout",
          "output_type": "stream",
          "text": [
            "False\n",
            "True\n",
            "True\n",
            "True\n",
            "True\n",
            "False\n"
          ]
        }
      ],
      "source": [
        "# Relational Operators\n",
        "print(4>5)\n",
        "\n",
        "print(4<5)\n",
        "\n",
        "print(4>=4)\n",
        "\n",
        "print(4<=4)\n",
        "\n",
        "print(4==4)\n",
        "\n",
        "print(4 != 4)"
      ]
    },
    {
      "cell_type": "code",
      "execution_count": 37,
      "metadata": {
        "id": "vyxdjDbc7avq"
      },
      "outputs": [
        {
          "name": "stdout",
          "output_type": "stream",
          "text": [
            "0\n",
            "1\n",
            "False\n"
          ]
        }
      ],
      "source": [
        "# Logical Operators\n",
        "print(1 and 0)\n",
        "\n",
        "print(1 or 0)\n",
        "\n",
        "print(not 1)"
      ]
    },
    {
      "cell_type": "code",
      "execution_count": 43,
      "metadata": {
        "id": "H4KzpSke7d9l"
      },
      "outputs": [
        {
          "name": "stdout",
          "output_type": "stream",
          "text": [
            "2\n",
            "3\n",
            "1\n",
            "-4\n",
            "1\n",
            "20\n"
          ]
        }
      ],
      "source": [
        "# Bitwise Operators\n",
        "\n",
        "#bitwise and \n",
        "print(2 & 3)\n",
        "\n",
        "#bitwise or\n",
        "print(2 | 3)\n",
        "\n",
        "#bitwise xor\n",
        "print(2 ^ 3)\n",
        "\n",
        "print(~3)\n",
        "\n",
        "#bitwise left operator\n",
        "print(4 >> 2)\n",
        "\n",
        "#bitwise right operator\n",
        "print(5 << 2)"
      ]
    },
    {
      "cell_type": "code",
      "execution_count": 45,
      "metadata": {
        "id": "8EEm8eHO7gD_"
      },
      "outputs": [
        {
          "name": "stdout",
          "output_type": "stream",
          "text": [
            "4\n"
          ]
        }
      ],
      "source": [
        "# Assignment Operators\n",
        "\n",
        "# =\n",
        "# a = 2\n",
        "\n",
        "a = 2\n",
        "\n",
        "a += 2 # same as a + 2 = a\n",
        "\n",
        "a %= 2 # same as a % 2 = a\n",
        "\n",
        "#a++ ++a is not used in python\n",
        "\n",
        "print(a)"
      ]
    },
    {
      "cell_type": "code",
      "execution_count": 52,
      "metadata": {
        "id": "LzrIz7I87h-W"
      },
      "outputs": [
        {
          "name": "stdout",
          "output_type": "stream",
          "text": [
            "False\n",
            "True\n"
          ]
        }
      ],
      "source": [
        "# Membership Operators\n",
        "\n",
        "#in / not in\n",
        "\n",
        "print('D' not in 'Delhi')\n",
        "\n",
        "print(4 in [2,3,4,5,6])"
      ]
    },
    {
      "cell_type": "code",
      "execution_count": 57,
      "metadata": {
        "id": "C-LoVrYGDEuB"
      },
      "outputs": [
        {
          "name": "stdout",
          "output_type": "stream",
          "text": [
            "12\n"
          ]
        }
      ],
      "source": [
        "# Program - Find the sum of a 3 digit number entered by the user\n",
        "\n",
        "number = int(input('Enter a 3 digit number '))\n",
        "#345%10 ->5\n",
        "a = number%10\n",
        "\n",
        "number = number//10\n",
        "\n",
        "#34%10 -> 4\n",
        "b = number%10\n",
        "\n",
        "number = number//10\n",
        "\n",
        "\n",
        "#3%10 ->3\n",
        "c = number % 10\n",
        "\n",
        "print(a+b+c)"
      ]
    },
    {
      "cell_type": "markdown",
      "metadata": {
        "id": "Iq7CzVFs7mWT"
      },
      "source": [
        "# If-else in Python"
      ]
    },
    {
      "cell_type": "code",
      "execution_count": 71,
      "metadata": {
        "id": "dGz-83pN7oxe"
      },
      "outputs": [
        {
          "name": "stdout",
          "output_type": "stream",
          "text": [
            "Incorrect password\n",
            "beta tumse na ho paayega!\n"
          ]
        }
      ],
      "source": [
        "# login program and indentation\n",
        "# email->nitish.campusx@gmail.com\n",
        "# password -> 1234\n",
        "\n",
        "email = input('enter email ')\n",
        "password = input('enter password ')\n",
        "\n",
        "if email == 'nitish.campusx@gmail.com' and password == '1234':\n",
        "    print('Welcome')\n",
        "elif email == 'nitish.campusx@gmail.com' and password != '1234':\n",
        "    # tell the user \n",
        "    print('Incorrect password')\n",
        "    #ask the user for password\n",
        "    password = input('Enter password again ')\n",
        "    if password == '1234':\n",
        "        print('Welcome')\n",
        "    else:\n",
        "        print('beta tumse na ho paayega!')\n",
        "else:\n",
        "    print('Not correct')"
      ]
    },
    {
      "cell_type": "code",
      "execution_count": 72,
      "metadata": {
        "id": "qo_1tY2ABlAX"
      },
      "outputs": [],
      "source": [
        "# if-else examples\n",
        "# 1. Find the min of 3 given numbers\n",
        "# 2. Menu Driven Program"
      ]
    },
    {
      "cell_type": "code",
      "execution_count": 76,
      "metadata": {},
      "outputs": [
        {
          "name": "stdout",
          "output_type": "stream",
          "text": [
            "smallest is 3\n"
          ]
        }
      ],
      "source": [
        "# min of 3 numbers\n",
        "a = int(input('first num '))\n",
        "b = int(input('second num '))\n",
        "c = int(input('third num '))\n",
        "\n",
        "if a < b and a < c :\n",
        "    print('smallest is',a)\n",
        "elif b < c :\n",
        "    print('smallest is',b)\n",
        "else:\n",
        "    print('smallest is',c)"
      ]
    },
    {
      "cell_type": "code",
      "execution_count": 77,
      "metadata": {},
      "outputs": [
        {
          "name": "stdout",
          "output_type": "stream",
          "text": [
            "6\n"
          ]
        }
      ],
      "source": [
        "# Menu Driven calculator\n",
        "fnum  = int(input('ehter the 1st number'))\n",
        "snum  = int(input('ehter the 2nd number'))\n",
        "\n",
        "op = input('Enter the operation')\n",
        "\n",
        "if op  == '+':\n",
        "    print(fnum+snum)\n",
        "elif op == '-':\n",
        "    print(fnum-snum)\n",
        "elif op == '*':\n",
        "    print(fnum*snum)\n",
        "else:\n",
        "    print(fnum/snum)\n"
      ]
    },
    {
      "cell_type": "code",
      "execution_count": 80,
      "metadata": {},
      "outputs": [
        {
          "name": "stdout",
          "output_type": "stream",
          "text": [
            "pin change\n"
          ]
        }
      ],
      "source": [
        "# menu for ATM\n",
        "menu = input(\"\"\"\n",
        "Hi! how can I help you.\n",
        "1. Enter 1 for pin change.\n",
        "2. Enter 2 for balance check.\n",
        "3. Enter 3 for withdrawl.\n",
        "4. Enter 4 for exit\n",
        "\"\"\")\n",
        "\n",
        "if menu == '1':\n",
        "    print('pin change')\n",
        "elif menu == '2':\n",
        "    print('balance')\n",
        "else:\n",
        "    print('exit')"
      ]
    },
    {
      "cell_type": "markdown",
      "metadata": {
        "id": "532_6mva8A6C"
      },
      "source": [
        "# Modules in Python\n",
        "\n",
        "- math\n",
        "- keywords\n",
        "- random\n",
        "- datetime"
      ]
    },
    {
      "cell_type": "code",
      "execution_count": 87,
      "metadata": {
        "id": "x5VXt7wv8G4o"
      },
      "outputs": [
        {
          "data": {
            "text/plain": [
              "14.0"
            ]
          },
          "execution_count": 87,
          "metadata": {},
          "output_type": "execute_result"
        }
      ],
      "source": [
        "# math\n",
        "import math\n",
        "\n",
        "math.sqrt(196)"
      ]
    },
    {
      "cell_type": "code",
      "execution_count": 89,
      "metadata": {
        "id": "FLgAX9pz8HBT"
      },
      "outputs": [
        {
          "name": "stdout",
          "output_type": "stream",
          "text": [
            "['False', 'None', 'True', '__peg_parser__', 'and', 'as', 'assert', 'async', 'await', 'break', 'class', 'continue', 'def', 'del', 'elif', 'else', 'except', 'finally', 'for', 'from', 'global', 'if', 'import', 'in', 'is', 'lambda', 'nonlocal', 'not', 'or', 'pass', 'raise', 'return', 'try', 'while', 'with', 'yield']\n"
          ]
        }
      ],
      "source": [
        "# keyword\n",
        "import keyword\n",
        "print(keyword.kwlist)"
      ]
    },
    {
      "cell_type": "code",
      "execution_count": 100,
      "metadata": {
        "id": "R0dWpe-w8HSZ"
      },
      "outputs": [
        {
          "name": "stdout",
          "output_type": "stream",
          "text": [
            "17\n"
          ]
        }
      ],
      "source": [
        "# random\n",
        "import random\n",
        "print(random.randint(1,100))"
      ]
    },
    {
      "cell_type": "code",
      "execution_count": 102,
      "metadata": {
        "id": "XNHWXsM0iFn3"
      },
      "outputs": [
        {
          "name": "stdout",
          "output_type": "stream",
          "text": [
            "2022-11-08 21:20:49.811099\n"
          ]
        }
      ],
      "source": [
        "# datetime\n",
        "import datetime\n",
        "print(datetime.datetime.now())"
      ]
    },
    {
      "cell_type": "code",
      "execution_count": 104,
      "metadata": {},
      "outputs": [
        {
          "name": "stdout",
          "output_type": "stream",
          "text": [
            "\n",
            "Please wait a moment while I gather a list of all available modules...\n",
            "\n",
            "Imported 0.2.02 version. Select nrows to a small number when running on huge datasets.\n",
            "output = featurewiz(dataname, target, corr_limit=0.90, verbose=2, sep=',', \n",
            "\t\theader=0, test_data='',feature_engg='', category_encoders='',\n",
            "\t\tdask_xgboost_flag=False, nrows=None, skip_sulov=False)\n",
            "Create new features via 'feature_engg' flag : ['interactions','groupby','target']\n",
            "\n",
            "IPython             cgitb               mkl                 stat\n",
            "OpenSSL             charset_normalizer  mkl_fft             statistics\n",
            "PIL                 chunk               mkl_random          statsmodels\n",
            "PyQt5               click               mmap                string\n",
            "__future__          cloudpickle         mmapfile            stringprep\n",
            "_abc                cmath               mmsystem            struct\n",
            "_aix_support        cmd                 modulefinder        subprocess\n",
            "_argon2_cffi_bindings code                mpmath              sunau\n",
            "_ast                codecs              msgpack             symbol\n",
            "_asyncio            codeop              msilib              symtable\n",
            "_bisect             collections         msvcrt              sys\n",
            "_blake2             colorama            multiprocessing     sysconfig\n",
            "_bootlocale         colorsys            munkres             tabnanny\n",
            "_bootsubprocess     commctrl            nbclassic           tabulate\n",
            "_bz2                compileall          nbclient            tarfile\n",
            "_cffi_backend       concurrent          nbconvert           tblib\n",
            "_codecs             conda               nbformat            telnetlib\n",
            "_codecs_cn          conda_env           nest_asyncio        tempfile\n",
            "_codecs_hk          conda_package_handling netbios             tenacity\n",
            "_codecs_iso2022     configparser        netrc               terminado\n",
            "_codecs_jp          contextlib          networkx            test\n",
            "_codecs_kr          contextvars         nntplib             test_pycosat\n",
            "_codecs_tw          copy                notebook            testpath\n",
            "_collections        copyreg             nt                  textwrap\n",
            "_collections_abc    crypt               ntpath              this\n",
            "_compat_pickle      cryptography        ntsecuritycon       threading\n",
            "_compression        csv                 nturl2path          threadpoolctl\n",
            "_contextvars        ctypes              numbers             time\n",
            "_csv                curses              numexpr             timeit\n",
            "_ctypes             cwp                 numpy               timer\n",
            "_ctypes_test        cycler              odbc                tkinter\n",
            "_datetime           dask                opcode              tlz\n",
            "_decimal            dataclasses         openpyxl            token\n",
            "_distutils_hack     datetime            operator            tokenize\n",
            "_elementtree        dateutil            optparse            toml\n",
            "_functools          dbi                 os                  toolz\n",
            "_hashlib            dbm                 outdated            tornado\n",
            "_heapq              dde                 packaging           tqdm\n",
            "_imp                debugpy             pandas              trace\n",
            "_io                 decimal             pandas_flavor       traceback\n",
            "_json               decorator           pandocfilters       tracemalloc\n",
            "_locale             defusedxml          parser              traitlets\n",
            "_lsprof             difflib             parso               tty\n",
            "_lzma               dis                 partd               turtle\n",
            "_markupbase         distributed         pathlib             turtledemo\n",
            "_md5                distutils           patsy               types\n",
            "_msi                doctest             pdb                 typing\n",
            "_multibytecodec     email               perfmon             typing_extensions\n",
            "_multiprocessing    encodings           pickle              unicodedata\n",
            "_nsis               ensurepip           pickleshare         unittest\n",
            "_opcode             entrypoints         pickletools         urllib\n",
            "_operator           enum                pingouin            urllib3\n",
            "_osx_support        errno               pip                 uu\n",
            "_overlapped         et_xmlfile          pipes               uuid\n",
            "_peg_parser         executing           pkg_resources       venv\n",
            "_pickle             fastjsonschema      pkgutil             warnings\n",
            "_plotly_future_     faulthandler        platform            wave\n",
            "_plotly_utils       feather             plistlib            wcwidth\n",
            "_py_abc             featurewiz          plotly              weakref\n",
            "_pydecimal          filecmp             ply                 webbrowser\n",
            "_pyio               fileinput           poplib              webencodings\n",
            "_pyrsistent_version fnmatch             posixpath           websocket\n",
            "_queue              fontTools           pprint              wheel\n",
            "_random             formatter           profile             widgetsnbextension\n",
            "_sha1               fractions           prometheus_client   win2kras\n",
            "_sha256             fsspec              prompt_toolkit      win32api\n",
            "_sha3               ftplib              pstats              win32clipboard\n",
            "_sha512             functools           psutil              win32com\n",
            "_signal             gc                  pty                 win32con\n",
            "_sitebuiltins       genericpath         pure_eval           win32console\n",
            "_socket             getopt              pvectorc            win32cred\n",
            "_sqlite3            getpass             py_compile          win32crypt\n",
            "_sre                gettext             pyarrow             win32cryptcon\n",
            "_ssl                glob                pyclbr              win32event\n",
            "_stat               graphlib            pycosat             win32evtlog\n",
            "_statistics         gzip                pycparser           win32evtlogutil\n",
            "_string             hashlib             pydoc               win32file\n",
            "_strptime           heapdict            pydoc_data          win32gui\n",
            "_struct             heapq               pyexpat             win32gui_struct\n",
            "_symtable           hmac                pygments            win32help\n",
            "_system_path        html                pylab               win32inet\n",
            "_testbuffer         http                pyparsing           win32inetcon\n",
            "_testcapi           idlelib             pyrsistent          win32job\n",
            "_testconsole        idna                pythoncom           win32lz\n",
            "_testimportmultiple imaplib             pytz                win32net\n",
            "_testinternalcapi   imblearn            pywin               win32netcon\n",
            "_testmultiphase     imghdr              pywin32_bootstrap   win32pdh\n",
            "_thread             imp                 pywin32_testutil    win32pdhquery\n",
            "_threading_local    importlib           pywintypes          win32pdhutil\n",
            "_tkinter            importlib_metadata  qtconsole           win32pipe\n",
            "_tracemalloc        inspect             qtpy                win32print\n",
            "_uuid               io                  queue               win32process\n",
            "_warnings           ipaddress           quopri              win32profile\n",
            "_weakref            ipykernel           random              win32ras\n",
            "_weakrefset         ipykernel_launcher  rasutil             win32rcparser\n",
            "_win32sysloader     ipython_genutils    re                  win32security\n",
            "_winapi             ipywidgets          regcheck            win32service\n",
            "_winxptheme         isapi               regutil             win32serviceutil\n",
            "_xxsubinterpreters  itertools           reprlib             win32timezone\n",
            "_yaml               jedi                requests            win32trace\n",
            "_zoneinfo           jinja2              rlcompleter         win32traceutil\n",
            "abc                 joblib              ruamel_yaml         win32transaction\n",
            "adodbapi            json                runpy               win32ts\n",
            "afxres              json5               sched               win32ui\n",
            "aifc                jsonschema          scipy               win32uiole\n",
            "antigravity         jupyter             seaborn             win32verstamp\n",
            "anyio               jupyter_client      secrets             win32wnet\n",
            "argon2              jupyter_console     select              win_inet_pton\n",
            "argparse            jupyter_core        selectors           wincertstore\n",
            "array               jupyter_server      send2trash          winerror\n",
            "ast                 jupyterlab          servicemanager      winioctlcon\n",
            "asttokens           jupyterlab_plotly   setuptools          winnt\n",
            "asynchat            jupyterlab_pygments shelve              winperf\n",
            "asyncio             jupyterlab_server   shlex               winpty\n",
            "asyncore            jupyterlab_widgets  shutil              winreg\n",
            "atexit              kaleido             signal              winsound\n",
            "attr                keyword             sipbuild            winxpgui\n",
            "attrs               kiwisolver          site                winxptheme\n",
            "audioop             klib                six                 wsgiref\n",
            "babel               lib2to3             sklearn             xarray\n",
            "backcall            lightgbm            smtpd               xdrlib\n",
            "base64              linecache           smtplib             xgboost\n",
            "bdb                 littleutils         sndhdr              xlrd\n",
            "binascii            locale              sniffio             xml\n",
            "binhex              locket              socket              xmlrpc\n",
            "bisect              logging             socketserver        xxsubtype\n",
            "bleach              lzma                socks               yaml\n",
            "bottleneck          mailbox             sockshandler        zict\n",
            "brotli              mailcap             sortedcontainers    zipapp\n",
            "bs4                 markupsafe          soupsieve           zipfile\n",
            "builtins            marshal             sqlite3             zipimport\n",
            "bz2                 math                sre_compile         zipp\n",
            "cProfile            matplotlib          sre_constants       zlib\n",
            "calendar            matplotlib_inline   sre_parse           zmq\n",
            "category_encoders   menuinst            ssl                 zoneinfo\n",
            "certifi             mimetypes           sspi                ~ornado\n",
            "cffi                missingno           sspicon             \n",
            "cgi                 mistune             stack_data          \n",
            "\n",
            "Enter any module name to get more help.  Or, type \"modules spam\" to search\n",
            "for modules whose name or summary contain the string \"spam\".\n",
            "\n"
          ]
        }
      ],
      "source": [
        "help('modules')"
      ]
    },
    {
      "cell_type": "markdown",
      "metadata": {
        "id": "2Ow6_gWG7ukc"
      },
      "source": [
        "# Loops in Python\n",
        "\n",
        "- Need for loops\n",
        "- While Loop\n",
        "- For Loop"
      ]
    },
    {
      "cell_type": "code",
      "execution_count": 14,
      "metadata": {
        "id": "Ig7NIb7L7txg"
      },
      "outputs": [],
      "source": [
        "# While loop example -> program to print the table\n",
        "# Program -> Sum of all digits of a given number\n",
        "# Program -> keep accepting numbers from users till he/she enters a 0 and then find the avg"
      ]
    },
    {
      "cell_type": "code",
      "execution_count": 108,
      "metadata": {},
      "outputs": [
        {
          "name": "stdout",
          "output_type": "stream",
          "text": [
            "10 * 1 = 10\n",
            "10 * 2 = 20\n",
            "10 * 3 = 30\n",
            "10 * 4 = 40\n",
            "10 * 5 = 50\n",
            "10 * 6 = 60\n",
            "10 * 7 = 70\n",
            "10 * 8 = 80\n",
            "10 * 9 = 90\n",
            "10 * 10 = 100\n"
          ]
        }
      ],
      "source": [
        "number = int(input('Enter the number'))\n",
        "\n",
        "i=1\n",
        "while i < 11:\n",
        "    print(number,'*',i, '=',number * i)\n",
        "    i += 1"
      ]
    },
    {
      "cell_type": "code",
      "execution_count": 109,
      "metadata": {
        "id": "Ltsr9n3H73fp"
      },
      "outputs": [
        {
          "name": "stdout",
          "output_type": "stream",
          "text": [
            "1\n",
            "2\n",
            "limit crossed\n"
          ]
        }
      ],
      "source": [
        "# while loop with else \n",
        "\n",
        "x = 1\n",
        "while x < 3:\n",
        "    print(x)\n",
        "    x += 1\n",
        "\n",
        "else:\n",
        "    print('limit crossed')"
      ]
    },
    {
      "cell_type": "code",
      "execution_count": 112,
      "metadata": {
        "id": "29y5r2cr8MRP"
      },
      "outputs": [
        {
          "name": "stdout",
          "output_type": "stream",
          "text": [
            "galat! guess lower\n",
            "galat! guess lower\n",
            "galat! guess higher\n",
            "correct guess\n",
            "attempts 4\n"
          ]
        }
      ],
      "source": [
        "# Guessing game\n",
        "\n",
        "# generate a random integer between 1 and 100\n",
        "import random\n",
        "jackpot = random.randint(1,100)\n",
        "\n",
        "guess = int(input(\"Guess karo\"))\n",
        "counter = 1\n",
        "while jackpot != guess:\n",
        "    if guess < jackpot:\n",
        "        print(\"galat! guess higher\")\n",
        "    else:\n",
        "        print(\"galat! guess lower\")\n",
        "    guess = int(input(\"Guess karo\"))\n",
        "    counter += 1\n",
        "\n",
        "else:\n",
        "    print(\"correct guess\")\n",
        "    print('attempts',counter)"
      ]
    },
    {
      "cell_type": "code",
      "execution_count": 115,
      "metadata": {
        "id": "bjjx0fMr8SWh"
      },
      "outputs": [
        {
          "name": "stdout",
          "output_type": "stream",
          "text": [
            "10\n",
            "9\n",
            "8\n",
            "7\n",
            "6\n",
            "5\n",
            "4\n",
            "3\n",
            "2\n",
            "1\n"
          ]
        }
      ],
      "source": [
        "# For loop demo\n",
        "\n",
        "for i in range(10,0,-1):\n",
        "    print(i)"
      ]
    },
    {
      "cell_type": "code",
      "execution_count": 118,
      "metadata": {},
      "outputs": [
        {
          "name": "stdout",
          "output_type": "stream",
          "text": [
            "1\n",
            "2\n",
            "3\n",
            "4\n",
            "5\n",
            "6\n"
          ]
        }
      ],
      "source": [
        "for i in (1,2,3,4,5,6):\n",
        "    print(i)"
      ]
    },
    {
      "cell_type": "code",
      "execution_count": 18,
      "metadata": {
        "id": "5ZLWEyFn8g1R"
      },
      "outputs": [],
      "source": [
        "# For loop examples"
      ]
    },
    {
      "cell_type": "markdown",
      "metadata": {
        "id": "EXnzCtohWx2V"
      },
      "source": [
        "### Program - The current population of a town is 10000. The population of the town is increasing at the rate of 10% per year. You have to write a program to find out the population at the end of each of the last 10 years."
      ]
    },
    {
      "cell_type": "code",
      "execution_count": 119,
      "metadata": {
        "id": "Nc_6lslRW03g"
      },
      "outputs": [
        {
          "name": "stdout",
          "output_type": "stream",
          "text": [
            "10 10000\n",
            "9 9000.0\n",
            "8 8100.0\n",
            "7 7290.0\n",
            "6 6561.0\n",
            "5 5904.9\n",
            "4 5314.41\n",
            "3 4782.969\n",
            "2 4304.6721\n",
            "1 3874.20489\n"
          ]
        }
      ],
      "source": [
        "# code here\n",
        "curr_pop = 10000\n",
        "\n",
        "for i in range(10,0,-1):\n",
        "    print(i,curr_pop)\n",
        "    curr_pop = curr_pop - 0.1*curr_pop\n",
        "    "
      ]
    },
    {
      "cell_type": "markdown",
      "metadata": {
        "id": "4xVI9HkgcEla"
      },
      "source": [
        "### Sequence sum\n",
        "\n",
        "1/1! + 2/2! + 3/3! + ..."
      ]
    },
    {
      "cell_type": "code",
      "execution_count": 20,
      "metadata": {
        "id": "wGC1eCDecPcB"
      },
      "outputs": [],
      "source": [
        "# code here"
      ]
    },
    {
      "cell_type": "code",
      "execution_count": 21,
      "metadata": {
        "id": "PNLWd1WR8dSw"
      },
      "outputs": [],
      "source": [
        "# For loop vs While loops (When to use what?)"
      ]
    },
    {
      "cell_type": "markdown",
      "metadata": {
        "id": "1bdP8FTX87Du"
      },
      "source": [
        "# Nested Loops"
      ]
    },
    {
      "cell_type": "code",
      "execution_count": 22,
      "metadata": {
        "id": "-YY5edV98lXq"
      },
      "outputs": [],
      "source": [
        "# Examples"
      ]
    },
    {
      "cell_type": "code",
      "execution_count": 23,
      "metadata": {
        "id": "Ym8nRkqxGXLN"
      },
      "outputs": [],
      "source": [
        "# Program - Unique combination of 1,2,3,4\n",
        "# Program - Pattern 1 and 2"
      ]
    },
    {
      "cell_type": "markdown",
      "metadata": {
        "id": "_Hz8L0f3c_3P"
      },
      "source": [
        "### Pattern 1\n",
        "\n",
        "\n",
        "*** <br>\n",
        "**** <br>\n",
        "***<br>\n"
      ]
    },
    {
      "cell_type": "code",
      "execution_count": null,
      "metadata": {
        "id": "YsL_YmxRdNrn"
      },
      "outputs": [],
      "source": []
    },
    {
      "cell_type": "markdown",
      "metadata": {
        "id": "eVAO3tVmdOWV"
      },
      "source": [
        "### Pattern 2\n",
        "\n",
        "1<br>\n",
        "121<br>\n",
        "12321<br>\n",
        "1234321<br>"
      ]
    },
    {
      "cell_type": "code",
      "execution_count": null,
      "metadata": {
        "id": "sHW4YJqcdXzw"
      },
      "outputs": [],
      "source": []
    },
    {
      "cell_type": "markdown",
      "metadata": {
        "id": "8GccSRIt891U"
      },
      "source": [
        "# Loop Control Statement\n",
        "\n",
        "- Break\n",
        "- Continue\n",
        "- Pass"
      ]
    },
    {
      "cell_type": "code",
      "execution_count": 24,
      "metadata": {
        "id": "kN9s2dG89DlJ"
      },
      "outputs": [],
      "source": [
        "# Break demo"
      ]
    },
    {
      "cell_type": "code",
      "execution_count": 25,
      "metadata": {
        "id": "u09EdMCm9FK_"
      },
      "outputs": [],
      "source": [
        "# Break example (Linear Search) -> Prime number in a given range"
      ]
    },
    {
      "cell_type": "code",
      "execution_count": 26,
      "metadata": {
        "id": "3q5asa2l9GYy"
      },
      "outputs": [],
      "source": [
        "# Continue demo"
      ]
    },
    {
      "cell_type": "code",
      "execution_count": 27,
      "metadata": {
        "id": "cA8CiMgn9IIT"
      },
      "outputs": [],
      "source": [
        "# Continue Example (Ecommerce)"
      ]
    },
    {
      "cell_type": "code",
      "execution_count": 28,
      "metadata": {
        "id": "P7GB16j59J-3"
      },
      "outputs": [],
      "source": [
        "# Pass demo"
      ]
    }
  ],
  "metadata": {
    "colab": {
      "provenance": []
    },
    "kernelspec": {
      "display_name": "Python 3.9.13 ('base')",
      "language": "python",
      "name": "python3"
    },
    "language_info": {
      "codemirror_mode": {
        "name": "ipython",
        "version": 3
      },
      "file_extension": ".py",
      "mimetype": "text/x-python",
      "name": "python",
      "nbconvert_exporter": "python",
      "pygments_lexer": "ipython3",
      "version": "3.9.15"
    },
    "vscode": {
      "interpreter": {
        "hash": "a993f5f796d0195f371cbefcd77badc46baf45145840c5b0e93ea38fbe8bee64"
      }
    }
  },
  "nbformat": 4,
  "nbformat_minor": 0
}
