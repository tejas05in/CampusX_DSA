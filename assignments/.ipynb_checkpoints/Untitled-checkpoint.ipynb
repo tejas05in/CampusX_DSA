{
 "cells": [
  {
   "cell_type": "markdown",
   "id": "1f3e742c-7372-498a-b99c-2c0137d5dd46",
   "metadata": {},
   "source": [
    "Q1:Count number of instances of a class created in Python?\n",
    "Example: Say Car is any class.\n",
    "\n",
    "maruti = Car()\n",
    "bmw = Car()\n",
    "honda = Car()\n",
    "So after creating above instances. We want to count how many instances are created of Car class.\n",
    "\n",
    "For above example no of instances = 3.\n",
    "\n",
    "Write a program for above problem."
   ]
  },
  {
   "cell_type": "code",
   "execution_count": 23,
   "id": "1c2dba08-2015-4291-9cd8-8e20dbc6d93a",
   "metadata": {},
   "outputs": [],
   "source": [
    "class Car:\n",
    "    \n",
    "    counter = 0\n",
    "    \n",
    "    def __init__(self):\n",
    "        Car.counter += 1"
   ]
  },
  {
   "cell_type": "code",
   "execution_count": 24,
   "id": "e987591d-af6b-4d9a-9b6e-e000674f02ec",
   "metadata": {},
   "outputs": [
    {
     "name": "stdout",
     "output_type": "stream",
     "text": [
      "no of instances =  3\n"
     ]
    }
   ],
   "source": [
    "maruti = Car()\n",
    "bmw = Car()\n",
    "honda = Car()\n",
    "print(\"no of instances = \",Car.counter)"
   ]
  },
  {
   "cell_type": "markdown",
   "id": "76491ec7-5b0d-42e3-ad7d-d926fb7ff32b",
   "metadata": {},
   "source": [
    "### Q-2: Create a deck of cards class. Internally, the deck of cards should use another class, a card class. Your requirements are:\n",
    "\n",
    "The Deck class should have a deal method to deal a single card from the deck\n",
    "After a card is dealt, it is removed from the deck.\n",
    "There should be a shuffle method which makes sure the deck of cards has all 52 cards and then rearranges them randomly.\n",
    "The Card class should have a suit (Hearts, Diamonds, Clubs, Spades) and a value (A,2,3,4,5,6,7,8,9,10,J,Q,K)"
   ]
  },
  {
   "cell_type": "code",
   "execution_count": null,
   "id": "ecb14cda-388c-4bbb-a72e-b73c7839bb28",
   "metadata": {},
   "outputs": [],
   "source": [
    "class Card:\n",
    "    \n",
    "    "
   ]
  }
 ],
 "metadata": {
  "kernelspec": {
   "display_name": "Python 3 (ipykernel)",
   "language": "python",
   "name": "python3"
  },
  "language_info": {
   "codemirror_mode": {
    "name": "ipython",
    "version": 3
   },
   "file_extension": ".py",
   "mimetype": "text/x-python",
   "name": "python",
   "nbconvert_exporter": "python",
   "pygments_lexer": "ipython3",
   "version": "3.9.15"
  }
 },
 "nbformat": 4,
 "nbformat_minor": 5
}
