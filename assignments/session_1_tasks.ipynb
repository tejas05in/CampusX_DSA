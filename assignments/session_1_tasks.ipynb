{
 "cells": [
  {
   "cell_type": "markdown",
   "metadata": {
    "id": "A05OG15VqOPF"
   },
   "source": [
    "# Task : Session 1\n",
    "Solve these questions own your own and try to test yourself what you have learned in the session.\n",
    "\n",
    "Happy Learning!"
   ]
  },
  {
   "cell_type": "markdown",
   "metadata": {
    "id": "2doIXf8bqe9_"
   },
   "source": [
    "### Q1 :- Print the given strings as per stated format.\n",
    "\n",
    "**Given strings**: \n",
    "```\n",
    "\"Data\" \"Science\" \"Mentorship\" \"Program\" \n",
    "\"By\" \"CampusX\"\n",
    "```\n",
    "**Output**: \n",
    "``` \n",
    "Data-Science-Mentorship-Program-started-By-CampusX\n",
    "```\n",
    "\n",
    "Concept- [Seperator and End]"
   ]
  },
  {
   "cell_type": "code",
   "execution_count": 2,
   "metadata": {
    "id": "-em6d3KErDtp"
   },
   "outputs": [
    {
     "name": "stdout",
     "output_type": "stream",
     "text": [
      "Data-Science-Mentorship-Program-started-By-CampusX\n"
     ]
    }
   ],
   "source": [
    "# Write your code here\n",
    "print(\"Data-Science-Mentorship-Program-started-By-CampusX\")"
   ]
  },
  {
   "cell_type": "markdown",
   "metadata": {
    "id": "1KUpN7ZTrC3_"
   },
   "source": [
    "### Q2:- Write a program that will convert celsius value to fahrenheit."
   ]
  },
  {
   "cell_type": "code",
   "execution_count": 5,
   "metadata": {
    "id": "yxKYhYQiqWfj"
   },
   "outputs": [
    {
     "name": "stdout",
     "output_type": "stream",
     "text": [
      "Enter the tempareture in Celsius: 23\n",
      "The temperature in Farenhite is: 73.4\n"
     ]
    }
   ],
   "source": [
    "# Write your code here\n",
    "C = float(input('Enter the tempareture in Celsius: '))\n",
    "F = (C*9/5) + 32\n",
    "print('The temperature in Farenhite is:',F)\n"
   ]
  },
  {
   "cell_type": "markdown",
   "metadata": {
    "id": "RLrOBBJurLB2"
   },
   "source": [
    "### Q3:- Take 2 numbers as input from the user.Write a program to swap the numbers without using any special python syntax."
   ]
  },
  {
   "cell_type": "code",
   "execution_count": 9,
   "metadata": {
    "id": "yPn7if0TrJ4F"
   },
   "outputs": [
    {
     "name": "stdout",
     "output_type": "stream",
     "text": [
      "Enter first number: 12\n",
      "Enter second number: 32\n",
      "32\n",
      "12\n"
     ]
    }
   ],
   "source": [
    "# Write your code here\n",
    "a = input('Enter first number: ')\n",
    "b = input('Enter second number: ')\n",
    "print(b)\n",
    "print(a)"
   ]
  },
  {
   "cell_type": "markdown",
   "metadata": {
    "id": "waLCP1bjr7ML"
   },
   "source": [
    "### Q4:- Write a program to find the euclidean distance between two coordinates.Take both the coordinates from the user as input."
   ]
  },
  {
   "cell_type": "code",
   "execution_count": 25,
   "metadata": {
    "id": "Pl1Sv-xnrxnH"
   },
   "outputs": [
    {
     "name": "stdout",
     "output_type": "stream",
     "text": [
      "Enter value of x1: 23\n",
      "Enter value of y1: 34\n",
      "Enter value of x2: 56\n",
      "Enter value of y2: 67\n",
      "The euclidean distnace between the two co-ordinates is: 46.669\n"
     ]
    }
   ],
   "source": [
    "# Write your code here\n",
    "import math\n",
    "\n",
    "x1 = float(input('Enter value of x1: '))\n",
    "y1 = float(input('Enter value of y1: '))\n",
    "x2 = float(input('Enter value of x2: '))\n",
    "y2 = float(input('Enter value of y2: '))\n",
    "\n",
    "d = math.sqrt((x2-x1)**2 + (y2-y1)**2)\n",
    "\n",
    "print(\"The euclidean distnace between the two co-ordinates is:\",round(d,3))"
   ]
  },
  {
   "cell_type": "markdown",
   "metadata": {
    "id": "VLrhg-FRsHjR"
   },
   "source": [
    "### Q5:- Write a program to find the simple interest when the value of principle,rate of interest and time period is provided by the user.\n"
   ]
  },
  {
   "cell_type": "code",
   "execution_count": 30,
   "metadata": {
    "id": "s40DlReZsTmY"
   },
   "outputs": [
    {
     "name": "stdout",
     "output_type": "stream",
     "text": [
      "Enter the principal amount: 500000\n",
      "Enter the rate of interest: 15\n",
      "Enter the time period in years: 5\n",
      "Simple interest is: 375000.0\n",
      "Total Amount to be paid is: 875000.0\n"
     ]
    }
   ],
   "source": [
    "# Write your code here\n",
    "P = float(input('Enter the principal amount: '))\n",
    "R = float(input('Enter the rate of interest: '))\n",
    "T = float(input('Enter the time period in years: '))\n",
    "\n",
    "print('Simple interest is:',(P*R*T)/100)\n",
    "print('Total Amount to be paid is:',P + (P*R*T)/100)"
   ]
  },
  {
   "cell_type": "markdown",
   "metadata": {
    "id": "LMy0BTUktYKa"
   },
   "source": [
    "### Q6:- Write a program that will tell the number of dogs and chicken are there when the user will provide the value of total heads and legs.\n",
    "\n",
    "For example:\n",
    "Input:\n",
    "heads -> 4\n",
    "legs -> 12\n",
    "<br>\n",
    "Output:\n",
    "dogs -> 2\n",
    "chicken -> 2\n",
    "\n",
    "\n",
    "\n"
   ]
  },
  {
   "cell_type": "code",
   "execution_count": 20,
   "metadata": {
    "id": "XSBvJoA4tXaG"
   },
   "outputs": [
    {
     "name": "stdout",
     "output_type": "stream",
     "text": [
      "Enter the total number of heads:9\n",
      "Enter the total number of legs:22\n",
      "dogs -> 2 chicken -> 7\n"
     ]
    }
   ],
   "source": [
    "# Write your code here\n",
    "# d = dogs ; c = cats\n",
    "# d + c = heads\n",
    "# 4d + 2c = legs\n",
    "# -2d - 2c = -2heads\n",
    "#2d = legs - 2heads\n",
    "# d = (legs - 2heads)2\n",
    "# c = heads - d\n",
    "heads = int(input('Enter the total number of heads:'))\n",
    "legs = int(input('Enter the total number of legs:'))\n",
    "if legs % 2 !=0 or heads ==0 or heads > legs:\n",
    "    print('No solution')\n",
    "else:\n",
    "    dogs  = int((legs - 2*heads) / 2)\n",
    "    chicken = int(heads - dogs)\n",
    "    print(f\"dogs -> {dogs} chicken -> {chicken}\")"
   ]
  },
  {
   "cell_type": "markdown",
   "metadata": {
    "id": "gJ7C5kZYt4BP"
   },
   "source": [
    "### Q7:- Write a program to find the sum of squares of first n natural numbers where n will be provided by the user."
   ]
  },
  {
   "cell_type": "code",
   "execution_count": 27,
   "metadata": {
    "id": "_tHsmEHzt2nX"
   },
   "outputs": [
    {
     "name": "stdout",
     "output_type": "stream",
     "text": [
      "Enter number6\n",
      "The sum of squares till 6 is 91\n"
     ]
    }
   ],
   "source": [
    "# Write your code here\n",
    "n = int(input('Enter number'))\n",
    "a = 0\n",
    "for i in range(n+1):\n",
    "    a = a + i**2\n",
    "print(f'The sum of squares till {n} is {a}')\n",
    "    "
   ]
  },
  {
   "cell_type": "markdown",
   "metadata": {
    "id": "FHrMM7g-yG1h"
   },
   "source": [
    "### Q8:- Given the first 2 terms of an Arithmetic Series.Find the Nth term of the series. Assume all inputs are provided by the user."
   ]
  },
  {
   "cell_type": "code",
   "execution_count": 31,
   "metadata": {
    "id": "go4_kmZmyVSx"
   },
   "outputs": [
    {
     "name": "stdout",
     "output_type": "stream",
     "text": [
      "Enter the first term 4\n",
      "Enter the second term 8\n",
      "Enter the value of n 10\n",
      "The value of 10th term is 40.0\n"
     ]
    }
   ],
   "source": [
    "# Write your code here\n",
    "# a(n) = a(1) + (n -1)d\n",
    "f = float(input(\"Enter the first term \"))\n",
    "s = float(input('Enter the second term '))\n",
    "n = int(input('Enter the value of n '))\n",
    "d = s - f\n",
    "a_n = f + (n - 1)*d\n",
    "print(f'The value of {n} term is {a_n}')"
   ]
  },
  {
   "cell_type": "markdown",
   "metadata": {
    "id": "QgyRX_es1oum"
   },
   "source": [
    "### Q9:- Given 2 fractions, find the sum of those 2 fractions.Take the numerator and denominator values of the fractions from the user."
   ]
  },
  {
   "cell_type": "code",
   "execution_count": 37,
   "metadata": {
    "id": "X05xqFS1yW16"
   },
   "outputs": [
    {
     "name": "stdout",
     "output_type": "stream",
     "text": [
      "Numerator fraction 1 2\n",
      "Denominator fraction 1 4\n",
      "Numerator fraction 2 6\n",
      "Denominator fraction 2 3\n",
      "2.5\n"
     ]
    }
   ],
   "source": [
    "# Write your code here\n",
    "a = float(input('Numerator fraction 1 '))\n",
    "b = float(input('Denominator fraction 1 '))\n",
    "c = float(input('Numerator fraction 2 '))\n",
    "d = float(input('Denominator fraction 2 '))\n",
    "print(round(a/b + c/d,3))"
   ]
  },
  {
   "cell_type": "markdown",
   "metadata": {
    "id": "eaql38ln13u7"
   },
   "source": [
    "### Q10:- Given the height, width and breadth of a milk tank, you have to find out how many glasses of milk can be obtained? Assume all the inputs are provided by the user.\n",
    "\n",
    "\n",
    "\n",
    "Input:<br>\n",
    "Dimensions of the milk tank<br>\n",
    "H = 20cm, L = 20cm, B = 20cm\n",
    "<br><br>\n",
    "Dimensions of the glass<br>\n",
    "h = 3cm, r = 1cm"
   ]
  },
  {
   "cell_type": "code",
   "execution_count": 35,
   "metadata": {
    "id": "FePZqno74eWv"
   },
   "outputs": [
    {
     "name": "stdout",
     "output_type": "stream",
     "text": [
      "Height of tank in cm 20\n",
      "Length of tank in cm 20\n",
      "Breadth of tank in cm 20\n",
      "height of glass in cm 3\n",
      "radius of glass in cm 1\n",
      "Number of glasses is 849\n"
     ]
    }
   ],
   "source": [
    "# Write your code here\n",
    "\n",
    "H = float(input('Height of tank in cm '))\n",
    "L = float(input('Length of tank in cm '))\n",
    "B = float(input('Breadth of tank in cm '))\n",
    "h = float(input('height of glass in cm '))\n",
    "r = float(input('radius of glass in cm '))\n",
    "\n",
    "Tank_vol = H*L*B\n",
    "Glass_vol = 3.14*r**2*h\n",
    "\n",
    "No_of_glasses = int(Tank_vol/Glass_vol)\n",
    "\n",
    "print(f'Number of glasses is {No_of_glasses}')"
   ]
  }
 ],
 "metadata": {
  "colab": {
   "provenance": []
  },
  "kernelspec": {
   "display_name": "Python 3 (ipykernel)",
   "language": "python",
   "name": "python3"
  },
  "language_info": {
   "codemirror_mode": {
    "name": "ipython",
    "version": 3
   },
   "file_extension": ".py",
   "mimetype": "text/x-python",
   "name": "python",
   "nbconvert_exporter": "python",
   "pygments_lexer": "ipython3",
   "version": "3.9.13"
  }
 },
 "nbformat": 4,
 "nbformat_minor": 1
}
