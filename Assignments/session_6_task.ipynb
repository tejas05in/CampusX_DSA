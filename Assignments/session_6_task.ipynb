{
 "cells": [
  {
   "cell_type": "markdown",
   "metadata": {
    "id": "h6dDSW5XGZFi"
   },
   "source": [
    "### **`Problem-1:`** Write a Python function that takes a list and returns a new list with unique elements of the first list.\n",
    "\n",
    "**Exercise 1:**\n",
    "\n",
    "Input:\n",
    "\n",
    "```bash\n",
    "[1,2,3,3,3,3,4,5]\n",
    "```\n",
    "\n",
    "Output:\n",
    "\n",
    "```bash\n",
    "[1, 2, 3, 4, 5]\n",
    "```"
   ]
  },
  {
   "cell_type": "code",
   "execution_count": null,
   "metadata": {
    "id": "R5pq1C9LGe1y"
   },
   "outputs": [],
   "source": [
    "# Write code here\n",
    "def uniq_list(a):\n",
    "    \"\"\"\n",
    "    takes a given list of integers and returns a unique list of integers\n",
    "    input - list of integers\n",
    "    output  - unique list of integers\n",
    "    \"\"\"\n",
    "    if type(a) == list:\n",
    "        u = set()\n",
    "        for i in a:\n",
    "            if type(i) == int:\n",
    "                u.add(i)\n",
    "            else:\n",
    "                return \"Please provide integers within the list\"\n",
    "        return list(u)\n",
    "    else:\n",
    "        return \"Please provide a list of integers\""
   ]
  },
  {
   "cell_type": "code",
   "execution_count": null,
   "metadata": {},
   "outputs": [],
   "source": [
    "uniq_list([1,2,3,3,3,3,4,5])"
   ]
  },
  {
   "cell_type": "markdown",
   "metadata": {
    "id": "UxQ_VoyJGwHj"
   },
   "source": [
    "### **`Problem-2:`** Write a Python function that accepts a hyphen-separated sequence of words as parameter and returns the words in a hyphen-separated sequence after sorting them alphabetically.\n",
    "\n",
    "**Example 1:**\n",
    "\n",
    "Input:\n",
    "```bash\n",
    "green-red-yellow-black-white\n",
    "```\n",
    "\n",
    "Output:\n",
    "```bash\n",
    "black-green-red-white-yellow\n",
    "```"
   ]
  },
  {
   "cell_type": "code",
   "execution_count": null,
   "metadata": {
    "id": "AAts2m5zGwiQ"
   },
   "outputs": [],
   "source": [
    "# Write code here\n",
    "def word_sort(s):\n",
    "    \"\"\"takes a hypen separated sequence of words and sorts it alphabetically and returns it in the same manner\n",
    "    \"\"\"\n",
    "    if type(s) == str:\n",
    "        l = sorted(s.split(\"-\"))\n",
    "        string = \"\"\n",
    "        for i in l:\n",
    "            if i == l[len(l)-1]:\n",
    "                string += i\n",
    "                break\n",
    "            elif i == \"\":\n",
    "                continue\n",
    "            else:\n",
    "                string += i + \"-\"\n",
    "        print(string)\n",
    "    else:\n",
    "        return \"Please provide a valid string\""
   ]
  },
  {
   "cell_type": "code",
   "execution_count": null,
   "metadata": {},
   "outputs": [],
   "source": [
    "word_sort(\"green-red-yellow-black-white\")"
   ]
  },
  {
   "cell_type": "markdown",
   "metadata": {
    "id": "IRGH62S7Gx_n"
   },
   "source": [
    "### **`Problem 3:`** Write a Python function that accepts a string and calculate the number of upper case letters and lower case letters.\n",
    "\n",
    "```\n",
    "Sample String : 'CampusX is an Online Mentorship Program fOr EnginEering studentS.'\n",
    "Expected Output :\n",
    "No. of Upper case characters :  9\n",
    "No. of Lower case Characters :  47\n",
    "```"
   ]
  },
  {
   "cell_type": "code",
   "execution_count": null,
   "metadata": {
    "id": "OaUrD8vVG5o8"
   },
   "outputs": [],
   "source": [
    "# Write code here\n",
    "def str_cap_checker(s):\n",
    "    \"\"\"takes a string as input and retruns the number of upper case and lower case letters in it\n",
    "    \"\"\"\n",
    "    if type(s) == str:\n",
    "        upper = \"\"\n",
    "        lower = \"\"\n",
    "        for i in s:\n",
    "            if i.isupper():\n",
    "                upper += i\n",
    "            elif i.islower():\n",
    "                lower += i\n",
    "            else:\n",
    "                continue\n",
    "        print(\"No. of Upper case characters : \",len(upper))\n",
    "        print(\"No. of Lower case characters : \",len(lower))\n",
    "    else:\n",
    "        print(\"Please enter a valid string\")"
   ]
  },
  {
   "cell_type": "code",
   "execution_count": null,
   "metadata": {},
   "outputs": [],
   "source": [
    "str_cap_checker(\"CampusX is an Online Mentorship Program fOr EnginEering studentS.\")"
   ]
  },
  {
   "cell_type": "markdown",
   "metadata": {
    "id": "V1BFFdYQG7Sn"
   },
   "source": [
    "### **`Problem 4:`** Write a Python program to print the even numbers from a given list.\n",
    "```\n",
    "Sample List : [1, 2, 3, 4, 5, 6, 7, 8, 9]\n",
    "Expected Result : [2, 4, 6, 8]\n",
    "```"
   ]
  },
  {
   "cell_type": "code",
   "execution_count": null,
   "metadata": {
    "id": "VvAReLoDG_Z3"
   },
   "outputs": [],
   "source": [
    "# Write code here\n",
    "\n",
    "def even_num(l):\n",
    "    \"\"\"takes a list of numbers as input and return a list of even numbers\n",
    "    \"\"\"\n",
    "    if type(l)==list:\n",
    "        final = []\n",
    "        for x in l:\n",
    "            if x%2==0:\n",
    "                final.append(x)\n",
    "        return final\n",
    "        "
   ]
  },
  {
   "cell_type": "code",
   "execution_count": null,
   "metadata": {},
   "outputs": [],
   "source": [
    "even_num([1, 2, 3, 4, 5, 6, 7, 8, 9])"
   ]
  },
  {
   "cell_type": "markdown",
   "metadata": {
    "id": "qrK39Gn-HHb4"
   },
   "source": [
    "### **`Problem 5:`** Write a Python function to check whether a number is perfect or not.\n",
    "\n",
    "A Perfect number is a number that is half the sum of all of its positive divisors (including itself).\n",
    "\n",
    "Example : \n",
    "\n",
    "```\n",
    "The first perfect number is 6, because 1, 2, and 3 are its proper positive divisors, and 1 + 2 + 3 = 6. \n",
    "Equivalently, the number 6 is equal to half the sum of all its positive divisors: ( 1 + 2 + 3 + 6 ) / 2 = 6. \n",
    "\n",
    "The next perfect number is 28 = 1 + 2 + 4 + 7 + 14. This is followed by the perfect numbers 496 and 8128.\n",
    "```\n"
   ]
  },
  {
   "cell_type": "code",
   "execution_count": null,
   "metadata": {},
   "outputs": [],
   "source": [
    "def perfect_num(x):\n",
    "    \"\"\"takes an integer x and checks if it is a perfect number or not\n",
    "    \n",
    "    \"\"\"\n",
    "\n",
    "    sum = 0\n",
    "    for i in range(1,x):\n",
    "        if x%i==0:\n",
    "            #print(i)\n",
    "            sum+=i\n",
    "    if sum == x and (sum + x)/2 == x:\n",
    "        print(x,\"is a perfect number\")\n",
    "    else:\n",
    "        print(x,\"is Not a perfect number\")"
   ]
  },
  {
   "cell_type": "code",
   "execution_count": null,
   "metadata": {
    "id": "P-OI7H78HICs"
   },
   "outputs": [],
   "source": [
    "# Write code here\n",
    "perfect_num(8128)"
   ]
  },
  {
   "cell_type": "markdown",
   "metadata": {
    "id": "oZdpcG77HO-6"
   },
   "source": [
    "### **`Problem-6:`** Write a Python function to concatenate any no of dictionaries to create a new one.\n",
    "\n",
    "```\n",
    "Sample Dictionary :\n",
    "dic1={1:10, 2:20}\n",
    "dic2={3:30, 4:40}\n",
    "dic3={5:50,6:60}\n",
    "Expected Result : {1: 10, 2: 20, 3: 30, 4: 40, 5: 50, 6: 60}\n",
    "```"
   ]
  },
  {
   "cell_type": "code",
   "execution_count": null,
   "metadata": {
    "id": "LQgfAY4ZHPhj"
   },
   "outputs": [],
   "source": [
    "# Write code here\n",
    "def dict_items(**kwarg):\n",
    "    \"\"\"concatenate any no of dictionaries to create a new one\n",
    "        input = dictionary any number\n",
    "        output = concatenates into one dictonary\n",
    "    \"\"\"\n",
    "    if type(kwarg) == dict:\n",
    "        d=dict()\n",
    "        for i in kwarg.values():\n",
    "            for j,k in i.items():\n",
    "                d[j] = k\n",
    "        return d\n",
    "    else:\n",
    "        print(\"Please enter a valid dictonary\")"
   ]
  },
  {
   "cell_type": "code",
   "execution_count": null,
   "metadata": {},
   "outputs": [],
   "source": [
    "dict_items(dic1={1:10, 2:20},dic2={3:30, 4:40},dic3={5:50,6:60})"
   ]
  },
  {
   "cell_type": "markdown",
   "metadata": {
    "id": "jQ6SzbCkHRd0"
   },
   "source": [
    "`Problem-7` Write a python function that accepts a string as input and returns the word with most occurence.\n",
    "\n",
    "```\n",
    "Input:\n",
    "hello how are you i am fine thank you\n",
    "```\n",
    "\n",
    "```\n",
    "Output\n",
    "you -> 2\n",
    "```"
   ]
  },
  {
   "cell_type": "code",
   "execution_count": null,
   "metadata": {
    "id": "Lh04JHLzIW7Z"
   },
   "outputs": [],
   "source": [
    "# Write code here\n",
    "def wrd_mx_ct(s):\n",
    "    \"\"\" takes a string of words as input and return the word which was repeated maximum number of times and its value\n",
    "    \n",
    "    \"\"\"\n",
    "\n",
    "    if type(s) == str:\n",
    "        l = s.split(\" \")\n",
    "        count = {}\n",
    "        for word in l:\n",
    "            if word in count:\n",
    "                count[word]+=1\n",
    "            else:\n",
    "                count[word] = 1\n",
    "        keymax = max(zip(count.values(),count.keys()))\n",
    "        print(keymax[1],\"->\",keymax[0])\n",
    "    else:\n",
    "        print(\"please enter a valid string\")"
   ]
  },
  {
   "cell_type": "code",
   "execution_count": null,
   "metadata": {},
   "outputs": [],
   "source": [
    "wrd_mx_ct(\"hi how are you how i am how\")"
   ]
  },
  {
   "cell_type": "markdown",
   "metadata": {
    "id": "1r8SpVntI-IW"
   },
   "source": [
    "`Problem-8` Write a python function that receives a list of integers and prints out a histogram of bin size 10\n",
    "\n",
    "```\n",
    "Input:\n",
    "[13,42,15,37,22,39,41,50]\n",
    "```\n",
    "\n",
    "```\n",
    "Output:\n",
    "{11-20:2,21-30:1,31-40:2,41-50:3}\n",
    "```"
   ]
  },
  {
   "cell_type": "code",
   "execution_count": 2,
   "metadata": {
    "id": "7W0J8rUjJovg"
   },
   "outputs": [],
   "source": [
    "# Write code here\n",
    "def bin_for_int(l):\n",
    "    \"\"\"Takes a list of integers as input and returns a histogram of bin size 10\n",
    "    \n",
    "    \"\"\"\n",
    "    if type(l) == list:\n",
    "        flag = True\n",
    "        for x in l:\n",
    "            if type(x) != int:\n",
    "                flag = False\n",
    "        if flag == True:\n",
    "            l = sorted(l)\n",
    "            maximum = max(l)\n",
    "            minimum  = min(l)//10 *10\n",
    "            d = {}\n",
    "            for i in range(minimum,maximum,10):\n",
    "                #print(i+1,i+10)\n",
    "                count = 0\n",
    "                for j in l:\n",
    "                    if j in range(i+1,i+11):\n",
    "                        count+=1\n",
    "                #print(count)\n",
    "                d[\"{}-{}\".format(i+1,i+10)] = count\n",
    "            return d\n",
    "        else:\n",
    "            print( \"Please provide valid integers within the list\") \n",
    "    else:\n",
    "        print ( \"Please provide a list of integers\" )"
   ]
  },
  {
   "cell_type": "code",
   "execution_count": 6,
   "metadata": {},
   "outputs": [
    {
     "data": {
      "text/plain": [
       "{'11-20': 2, '21-30': 1, '31-40': 2, '41-50': 3}"
      ]
     },
     "execution_count": 6,
     "metadata": {},
     "output_type": "execute_result"
    }
   ],
   "source": [
    "bin_for_int([13,42,15,37,22,39,41,50])"
   ]
  },
  {
   "cell_type": "markdown",
   "metadata": {
    "id": "1P2-rbgXKE53"
   },
   "source": [
    "`Problem-9` Write a python function that accepts a list of 2D co-ordinates and a query point, and then finds the the co-ordinate which is closest in terms of distance from the query point.\n",
    "\n",
    "```\n",
    "List of Coordinates\n",
    "[(1,1),(2,2),(3,3),(4,4)]\n",
    "Query Point\n",
    "(0,0)\n",
    "```\n",
    "\n",
    "```\n",
    "Output\n",
    "Nearest to (0,0) is (1,1)\n",
    "```"
   ]
  },
  {
   "cell_type": "code",
   "execution_count": 69,
   "metadata": {
    "id": "zjn7vSTIJ81G"
   },
   "outputs": [],
   "source": [
    "# Write code here\n",
    "def nearest(l):\n",
    "    \"\"\"Takes a list of 2D co-ordinates as l and a query point in the form of (x,y) \n",
    "    as input and returns the co-odrinate which is closest in terms of distance from \n",
    "    the query point\n",
    "    \n",
    "    \"\"\"\n",
    "    if type(l) == list:\n",
    "        flag = True\n",
    "        for x in l:\n",
    "            if type(x) != tuple:\n",
    "                flag = False\n",
    "        if flag == True:\n",
    "            user_input = input(\"Enter space separeted co-ordinates Eg. x y\")\n",
    "            x , y = tuple(int(item) for item in user_input.split())\n",
    "            d= {}\n",
    "            for i in l:\n",
    "                x1 , y1 = i\n",
    "                k = (x1-x)**2 + (y1-y)**2\n",
    "                d [k] = i\n",
    "            nearest = sorted(d)\n",
    "            print(\"Nearest to {} is {}\".format((x,y) ,d[nearest[0]]))\n",
    "        else:\n",
    "            print( \"Please provide valid list of cordinates as (x,y)\") \n",
    "    else:\n",
    "        print ( \"Please provide a valid list containing co-ordinates\" )"
   ]
  },
  {
   "cell_type": "code",
   "execution_count": 70,
   "metadata": {},
   "outputs": [
    {
     "name": "stdin",
     "output_type": "stream",
     "text": [
      "Enter space separeted co-ordinates Eg. x y 0 0\n"
     ]
    },
    {
     "name": "stdout",
     "output_type": "stream",
     "text": [
      "Nearest to (0, 0) is (3, 3)\n"
     ]
    }
   ],
   "source": [
    "nearest([(3,3),(5,5),(6,5),(7,5)])"
   ]
  },
  {
   "cell_type": "markdown",
   "metadata": {
    "id": "i-B6igmyK9hB"
   },
   "source": [
    "`Problem-10`:Write a python program that receives a list of strings and performs bag of word operation on those strings\n",
    "\n",
    "https://en.wikipedia.org/wiki/Bag-of-words_model"
   ]
  },
  {
   "cell_type": "code",
   "execution_count": 122,
   "metadata": {
    "id": "N2l1_AWULT-z"
   },
   "outputs": [],
   "source": [
    "# Write code here\n",
    "def bag_of_words():\n",
    "    \"\"\"Takes a string as an input and return a bag of words dictionary\n",
    "    \n",
    "    \"\"\"\n",
    "    string = input(\"Enter a sentance: \")\n",
    "    string = string.split()\n",
    "    s = [item.strip(\".\") for item in string]\n",
    "    d = {}\n",
    "    for i in s:\n",
    "        if i in d:\n",
    "            d[i] += 1\n",
    "        else:\n",
    "            d[i] = 1\n",
    "    return d\n",
    "            "
   ]
  },
  {
   "cell_type": "code",
   "execution_count": 124,
   "metadata": {},
   "outputs": [
    {
     "name": "stdin",
     "output_type": "stream",
     "text": [
      "Enter a sentance:  hi a am good i amd going to go to movies \n"
     ]
    },
    {
     "data": {
      "text/plain": [
       "{'hi': 1,\n",
       " 'a': 1,\n",
       " 'am': 1,\n",
       " 'good': 1,\n",
       " 'i': 1,\n",
       " 'amd': 1,\n",
       " 'going': 1,\n",
       " 'to': 2,\n",
       " 'go': 1,\n",
       " 'movies': 1}"
      ]
     },
     "execution_count": 124,
     "metadata": {},
     "output_type": "execute_result"
    }
   ],
   "source": [
    "bag_of_words()"
   ]
  },
  {
   "cell_type": "code",
   "execution_count": null,
   "metadata": {},
   "outputs": [],
   "source": []
  }
 ],
 "metadata": {
  "colab": {
   "provenance": []
  },
  "kernelspec": {
   "display_name": "Python 3 (ipykernel)",
   "language": "python",
   "name": "python3"
  },
  "language_info": {
   "codemirror_mode": {
    "name": "ipython",
    "version": 3
   },
   "file_extension": ".py",
   "mimetype": "text/x-python",
   "name": "python",
   "nbconvert_exporter": "python",
   "pygments_lexer": "ipython3",
   "version": "3.9.15"
  },
  "vscode": {
   "interpreter": {
    "hash": "a993f5f796d0195f371cbefcd77badc46baf45145840c5b0e93ea38fbe8bee64"
   }
  }
 },
 "nbformat": 4,
 "nbformat_minor": 4
}
