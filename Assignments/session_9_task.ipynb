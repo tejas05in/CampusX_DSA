{
 "cells": [
  {
   "cell_type": "markdown",
   "metadata": {
    "id": "BCleRtX43caS"
   },
   "source": [
    "### `Problem-1:` Class inheritence\n",
    "\n",
    "Create a **Bus** child class that inherits from the Vehicle class. The default fare charge of any vehicle is seating capacity * 100. If Vehicle is Bus instance, we need to add an extra 10% on full fare as a maintenance charge. So total fare for bus instance will become the final amount = total fare + 10% of the total fare.\n",
    "\n",
    "Note: The bus seating capacity is 50. so the final fare amount should be 5500. You need to override the fare() method of a Vehicle class in Bus class."
   ]
  },
  {
   "cell_type": "code",
   "execution_count": 1,
   "metadata": {
    "colab": {
     "base_uri": "https://localhost:8080/"
    },
    "id": "6jVFCXKz3YZI",
    "outputId": "a8649209-08e2-4f60-a914-74a914dd697e"
   },
   "outputs": [
    {
     "name": "stdout",
     "output_type": "stream",
     "text": [
      "300\n",
      "5000\n"
     ]
    }
   ],
   "source": [
    "# Write code here\n",
    "\n",
    "class Vehicle:\n",
    "    \n",
    "    def __init__(self, vehicle_type , seats):\n",
    "        self.vehicle_type = vehicle_type\n",
    "        self.seats = seats\n",
    "    \n",
    "    def fare(self):\n",
    "        fare = self.seats * 100\n",
    "        return fare\n",
    "\n",
    "class Bus(Vehicle):\n",
    "    \n",
    "    def fare(self):\n",
    "        if self.vehicle_type == \"Bus\":\n",
    "            fare = (self.seats * 100) + (self.seats * 100)*0.1\n",
    "            return fare\n",
    "        \n",
    "p1 = Vehicle(\"auto\",3)\n",
    "p2 = Vehicle(\"Bus\",50)\n",
    "print(p1.fare())\n",
    "print(p2.fare())"
   ]
  },
  {
   "cell_type": "markdown",
   "metadata": {
    "id": "KBbGNTtQ47mJ"
   },
   "source": [
    "### `Problem-2:` Class Inheritence\n",
    "\n",
    "Create a Bus class that inherits from the Vehicle class. Give the capacity argument of *Bus.seating_capacity()* a default value of 50.\n",
    "\n",
    "Use the following code for your parent Vehicle class."
   ]
  },
  {
   "cell_type": "code",
   "execution_count": 2,
   "metadata": {
    "id": "MwOnYE_14M-r"
   },
   "outputs": [
    {
     "name": "stdout",
     "output_type": "stream",
     "text": [
      "volvo,60\n"
     ]
    },
    {
     "data": {
      "text/plain": [
       "50"
      ]
     },
     "execution_count": 2,
     "metadata": {},
     "output_type": "execute_result"
    }
   ],
   "source": [
    "class Vehicle:\n",
    "    \n",
    "    def __init__(self, vehicle_type , seats):\n",
    "        self.vehicle_type = vehicle_type\n",
    "        self.seats = seats       \n",
    "    \n",
    "    def __str__(self):\n",
    "        return  \"{},{}\".format(self.vehicle_type,self.seats)\n",
    "\n",
    "class Bus(Vehicle):\n",
    "        \n",
    "            \n",
    "    def seating_capacity(self):\n",
    "        self.seats = 50\n",
    "        return self.seats\n",
    "    \n",
    "\n",
    "p1 = Vehicle(\"volvo\",60)    \n",
    "print(p1)\n",
    "p2 = Bus(\"volvo\",60)\n",
    "p2.seating_capacity()\n"
   ]
  },
  {
   "cell_type": "code",
   "execution_count": null,
   "metadata": {
    "id": "Py5Gr0ip5OBB"
   },
   "outputs": [],
   "source": []
  },
  {
   "cell_type": "markdown",
   "metadata": {
    "id": "ExIxsv4y-oEd"
   },
   "source": [
    "### `Problem-3:` Write a program that has a class Point. Define another class Location which has two objects (Location & Destination) of class Point. Also define a function in Location that prints the reflection of Destination on the x axis."
   ]
  },
  {
   "cell_type": "code",
   "execution_count": 7,
   "metadata": {
    "id": "yT2QtzQp5VAB"
   },
   "outputs": [],
   "source": [
    "class Point:\n",
    "    \"\"\"defines a point with co-ordinates x,y\"\"\"\n",
    "    \n",
    "    def __init__(self,x,y):\n",
    "        self.x = x\n",
    "        self.y = y\n",
    "        \n",
    "    def __str__(self):\n",
    "        return \"Point co-odrinates ({0},{1})\".format(self.x,self.y)\n",
    "    \n",
    "class Location(Point):\n",
    "    \n",
    "    def __str__(self):\n",
    "        return \"Location of Point on x asix is {0} and on y axis is {1}\".format(self.x,self.y)\n",
    "    \n",
    "    def reflection_x(self):\n",
    "        return \"({},{})\".format(self.x,-self.y)"
   ]
  },
  {
   "cell_type": "code",
   "execution_count": 11,
   "metadata": {},
   "outputs": [
    {
     "name": "stdout",
     "output_type": "stream",
     "text": [
      "(3,-4)\n"
     ]
    }
   ],
   "source": [
    "p1 = Location(3,4)\n",
    "print(p1.reflection_x())\n"
   ]
  },
  {
   "cell_type": "markdown",
   "metadata": {
    "id": "OcQhJvXVALgp"
   },
   "source": [
    "### `Problem-4:` Write a program that has an abstract class Polygon. Derive two classes Rectangle and Triamgle from Polygon and write methods to get the details of their dimensions and hence calculate the area."
   ]
  },
  {
   "cell_type": "code",
   "execution_count": null,
   "metadata": {
    "id": "9IMrtdUH__eA"
   },
   "outputs": [],
   "source": []
  },
  {
   "cell_type": "markdown",
   "metadata": {
    "id": "sEsGEqOHCSWG"
   },
   "source": [
    "### `Problem-5:` Write a program with class Bill. The users have the option to pay the bill either by cheque or by cash. Use the inheritance to model this situation."
   ]
  },
  {
   "cell_type": "code",
   "execution_count": 19,
   "metadata": {
    "id": "l0WFyP2PB3nf"
   },
   "outputs": [
    {
     "name": "stdin",
     "output_type": "stream",
     "text": [
      "\n",
      "        Hi do you wish to pay the bill?\n",
      "        1. Press 1 to pay by cash\n",
      "        2. Press 2 to pay by check\n",
      "        3. To exit\n",
      "         3\n"
     ]
    }
   ],
   "source": [
    "class Bill:\n",
    "    \"\"\"Enter the bill amount\"\"\"\n",
    "    \n",
    "    def __init__(self,bill_amount):\n",
    "        self.bill_amount = bill_amount\n",
    "        self.menu()\n",
    "        \n",
    "    def __str__(self):\n",
    "        return \"The bill amount is {}\".format(self.bill_amount)\n",
    "    \n",
    "\n",
    "class Pay_Method(Bill):\n",
    "    \n",
    "    def menu(self):\n",
    "        user_input = int(input(\"\"\"\n",
    "        Hi do you wish to pay the bill?\n",
    "        1. Press 1 to pay by cash\n",
    "        2. Press 2 to pay by check\n",
    "        3. To exit\n",
    "        \"\"\"))\n",
    "        if user_input == 1:\n",
    "            print(\"{} bill paid by cash\".format(self.bill_amount))\n",
    "        elif user_input == 2:\n",
    "            print(\"{} bill paid by cheque\".format(self.bill_amount))\n",
    "    \n",
    "B = Pay_Method(300)\n",
    "\n",
    "    "
   ]
  },
  {
   "cell_type": "markdown",
   "metadata": {
    "id": "v1M5Yh9ZZO0z"
   },
   "source": [
    "###`Q-6:` FlexibleDict\n",
    "As of now we are accessing values from dictionary with exact keys. Now we want to amend accessing values functionality. if a dict have key `1` (int) the even if we try to access values by giving `'1'` (1 as str) as key, we should get the same result and vice versa.\n",
    "\n",
    "Write a class `FlexibleDict` upon builtin `dict` class with above required functionality.\n",
    "\n",
    "Hint- `dict[key] => dict.__getitem__(key)` "
   ]
  },
  {
   "cell_type": "markdown",
   "metadata": {
    "id": "uajGeWegbfda"
   },
   "source": [
    "Ex.\n",
    "```\n",
    "fd = FlexibleDict()\n",
    "fd['a'] = 100\n",
    "print(fd['a']) # Like regular dict\n",
    "\n",
    "fd[5] = 500\n",
    "print(fd[5]) # Like regular dict\n",
    "\n",
    "fd[1] = 100\n",
    "print(fd['1']) # actual Key is int but still trying to access through str key.\n",
    "fd['1'] = 100\n",
    "print(fd[1])\n",
    "\n",
    "```\n",
    "`Output:`\n",
    "```\n",
    "100\n",
    "500\n",
    "100\n",
    "100\n",
    "\n",
    "```"
   ]
  },
  {
   "cell_type": "code",
   "execution_count": null,
   "metadata": {
    "id": "OHLbOtCxZ2nw"
   },
   "outputs": [],
   "source": []
  },
  {
   "cell_type": "code",
   "execution_count": null,
   "metadata": {
    "id": "7NM8r__dmeMf"
   },
   "outputs": [],
   "source": []
  },
  {
   "cell_type": "code",
   "execution_count": null,
   "metadata": {
    "id": "waHSud8Ymkz-"
   },
   "outputs": [],
   "source": []
  }
 ],
 "metadata": {
  "colab": {
   "collapsed_sections": [
    "BCleRtX43caS",
    "KBbGNTtQ47mJ",
    "ExIxsv4y-oEd",
    "OcQhJvXVALgp",
    "sEsGEqOHCSWG",
    "v1M5Yh9ZZO0z"
   ],
   "provenance": []
  },
  "kernelspec": {
   "display_name": "Python 3 (ipykernel)",
   "language": "python",
   "name": "python3"
  },
  "language_info": {
   "codemirror_mode": {
    "name": "ipython",
    "version": 3
   },
   "file_extension": ".py",
   "mimetype": "text/x-python",
   "name": "python",
   "nbconvert_exporter": "python",
   "pygments_lexer": "ipython3",
   "version": "3.9.15"
  }
 },
 "nbformat": 4,
 "nbformat_minor": 4
}
