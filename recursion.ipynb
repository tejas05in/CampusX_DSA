{
 "cells": [
  {
   "cell_type": "markdown",
   "metadata": {},
   "source": [
    "# Recursion  => concept of calling a function within itself"
   ]
  },
  {
   "cell_type": "code",
   "execution_count": null,
   "metadata": {},
   "outputs": [],
   "source": [
    "# multiply 2 numbers a,b without loops or multiply function\n",
    "\n",
    "def mul(a,b):\n",
    "    if b == 1:\n",
    "        return a\n",
    "    else:\n",
    "        return a + mul(a,b-1)\n"
   ]
  }
 ],
 "metadata": {
  "kernelspec": {
   "display_name": "Python 3.9.15 ('base')",
   "language": "python",
   "name": "python3"
  },
  "language_info": {
   "name": "python",
   "version": "3.9.15"
  },
  "orig_nbformat": 4,
  "vscode": {
   "interpreter": {
    "hash": "a993f5f796d0195f371cbefcd77badc46baf45145840c5b0e93ea38fbe8bee64"
   }
  }
 },
 "nbformat": 4,
 "nbformat_minor": 2
}
